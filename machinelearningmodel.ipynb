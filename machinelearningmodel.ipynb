{
 "cells": [
  {
   "cell_type": "code",
   "execution_count": 71,
   "metadata": {},
   "outputs": [],
   "source": [
    "import pandas as pd\n",
    "import numpy as np\n",
    "import re\n",
    "import phonenumbers"
   ]
  },
  {
   "cell_type": "code",
   "execution_count": 250,
   "metadata": {},
   "outputs": [],
   "source": [
    "class PIIFilter:\n",
    "    def identify_email(self, text):\n",
    "        regex = \"^\\S+@\\S+\\.\\S+$\"\n",
    "        email_check=[]\n",
    "        for each_entry in text: \n",
    "            #print(each_entry)\n",
    "            email = re.findall(regex,str(each_entry))\n",
    "            if email:\n",
    "                email_check.append(each_entry)\n",
    "        #email_check\n",
    "        if len(email_check)>=(len(text)*0.7):\n",
    "            return \" contains PII (email).\"\n",
    "        #return \"This may not contain PII.\"\n",
    "        return \"\"\n",
    "    \n",
    "    def identify_ssn(self,text):\n",
    "        regex = \"^(?!666|000|9\\\\d{2})\\\\d{3}-(?!00)\\\\d{2}-(?!0{4})\\\\d{4}$\"\n",
    "        ssn_check = []\n",
    "        for each_entry in text:\n",
    "            ssn = re.findall(regex,str(each_entry))\n",
    "            if ssn:\n",
    "                ssn_check.append(ssn)\n",
    "        #print(ssn_check)\n",
    "        # if 70% data belongs to this category, put a label\n",
    "        #print(len(ssn_check))\n",
    "\n",
    "        if len(ssn_check)>=(len(text)*0.7):\n",
    "            return \" contains PII (SSN).\"\n",
    "        return \"\"\n",
    "    \n",
    "    \n",
    "    def identify_phone_numbers(self,text):\n",
    "        phone_list = []\n",
    "        regex = \"^\\s*(?:\\+?(\\d{1,3}))?[-. (]*(\\d{3})[-. )]*(\\d{3})[-. ]*(\\d{4})(?: *x(\\d+))?\\s*$\"\n",
    "        for each_entry in text:\n",
    "            phone = re.findall(regex,str(each_entry))\n",
    "            if phone:\n",
    "                phone_list.append(each_entry)\n",
    "            if len(phone_list)>=(len(text)*0.7):\n",
    "                return \" contains PII (phone number).\"\n",
    "        #return \"This may not contain PII.\"\n",
    "        return \"\"\n",
    "    \n",
    "    def identify_postal_codes(self,text):\n",
    "        postal_list = []\n",
    "        regex = \"^[0-9]{5}(?:-[0-9]{4})?$\"\n",
    "        for each_entry in text:\n",
    "            postal = re.findall(regex,str(each_entry))\n",
    "            if postal:\n",
    "                postal_list.append(each_entry)\n",
    "            if len(postal_list)>=(len(text)*0.7):\n",
    "                return \" contains PII (postal code).\"\n",
    "        return \"\"\n",
    "    \n",
    "    def identify_credit_card_number(self,text):\n",
    "        cc_list = []\n",
    "        regex = \"(^4[0-9]{12}(?:[0-9]{3})?$)|(^(?:5[1-5][0-9]{2}|222[1-9]|22[3-9][0-9]|2[3-6][0-9]{2}|27[01][0-9]|2720)[0-9]{12}$)|(3[47][0-9]{13})|(^3(?:0[0-5]|[68][0-9])[0-9]{11}$)|(^6(?:011|5[0-9]{2})[0-9]{12}$)|(^(?:2131|1800|35\\d{3})\\d{11}$)\"\n",
    "        for each_entry in text:\n",
    "            each_entry = str(each_entry)\n",
    "            each_entry = each_entry.replace(\"-\",\"\")\n",
    "            cc = re.findall(regex,str(each_entry))\n",
    "            if cc:\n",
    "                cc_list.append(each_entry)\n",
    "            if len(cc_list)>=(len(text)*0.7):\n",
    "                return \" contains PII (credit card number).\"\n",
    "        return \"\"\n",
    "    \n",
    "    def identify_drivers_license(self,text):\n",
    "        drivers_list = []\n",
    "        regex = \"^[A-Z](?:\\d[- ]*){14}$\"\n",
    "        for each_entry in text:\n",
    "            driver = re.findall(regex,str(each_entry))\n",
    "            if driver:\n",
    "                drivers_list.append(each_entry)\n",
    "            if len(drivers_list)>=(len(text)*0.7):\n",
    "                return \" contains PII (Driving License number).\"\n",
    "        return \"\"\n",
    "    \n",
    "    def filterPii(self, inputtext):\n",
    "        analysis_text = \"\"\n",
    "        analysis_text += self.identify_email(inputtext)\n",
    "        analysis_text += self.identify_ssn(inputtext)\n",
    "        analysis_text += self.identify_phone_numbers(inputtext)\n",
    "        analysis_text += self.identify_postal_codes(inputtext)\n",
    "        analysis_text += self.identify_credit_card_number(inputtext)\n",
    "        analysis_text += self.identify_drivers_license(inputtext)\n",
    "        \n",
    "        #if analysis_text == \"\":\n",
    "            #print(\"This may not contain PII.\")\n",
    "            #return\n",
    "        return analysis_text\n",
    "        \n"
   ]
  },
  {
   "cell_type": "markdown",
   "metadata": {},
   "source": [
    "## Load Datasets"
   ]
  },
  {
   "cell_type": "code",
   "execution_count": 2,
   "metadata": {},
   "outputs": [
    {
     "name": "stderr",
     "output_type": "stream",
     "text": [
      "C:\\Users\\mchou\\anaconda3\\lib\\site-packages\\IPython\\core\\interactiveshell.py:3146: DtypeWarning: Columns (0) have mixed types.Specify dtype option on import or set low_memory=False.\n",
      "  has_raised = await self.run_ast_nodes(code_ast.body, cell_name,\n"
     ]
    }
   ],
   "source": [
    "patients_data = pd.read_csv ('Patients_clean.csv')\n",
    "provider_data = pd.read_csv ('provider_clean.csv')\n",
    "sale_data = pd.read_csv ('sale_clean.csv')\n",
    "dummy_data = pd.read_csv ('dummydata_clean.csv')"
   ]
  },
  {
   "cell_type": "markdown",
   "metadata": {},
   "source": [
    "### We would be using sales data  "
   ]
  },
  {
   "cell_type": "code",
   "execution_count": 212,
   "metadata": {},
   "outputs": [
    {
     "data": {
      "text/plain": [
       "<bound method NDFrame.head of 0          60124\n",
       "1          60124\n",
       "2          60124\n",
       "3          60124\n",
       "4          60124\n",
       "           ...  \n",
       "286387    115323\n",
       "286388    115324\n",
       "286389    115325\n",
       "286390    115325\n",
       "286391    115326\n",
       "Name: cust_id, Length: 286392, dtype: int64>"
      ]
     },
     "execution_count": 212,
     "metadata": {},
     "output_type": "execute_result"
    }
   ],
   "source": [
    "sale_data[\"cust_id\"].head"
   ]
  },
  {
   "cell_type": "code",
   "execution_count": 135,
   "metadata": {},
   "outputs": [],
   "source": [
    "random_sample = sale_data['SSN'].sample(n=1000, random_state = 101)\n",
    "a.filterPii(random_sample)"
   ]
  },
  {
   "cell_type": "code",
   "execution_count": 136,
   "metadata": {},
   "outputs": [],
   "source": [
    "?random_sample"
   ]
  },
  {
   "cell_type": "code",
   "execution_count": 209,
   "metadata": {},
   "outputs": [],
   "source": [
    "a = PIIFilter()"
   ]
  },
  {
   "cell_type": "code",
   "execution_count": 210,
   "metadata": {},
   "outputs": [
    {
     "name": "stdout",
     "output_type": "stream",
     "text": [
      "The column order_id may not contain PII.\n",
      "The column order_date may not contain PII.\n",
      "The column status may not contain PII.\n",
      "The column item_id may not contain PII.\n",
      "The column sku may not contain PII.\n",
      "The column qty_ordered may not contain PII.\n",
      "The column price may not contain PII.\n",
      "The column value may not contain PII.\n",
      "The column discount_amount may not contain PII.\n",
      "The column total may not contain PII.\n",
      "The column category may not contain PII.\n",
      "The column payment_method may not contain PII.\n",
      "The column bi_st may not contain PII.\n",
      "The column cust_id contains PII (postal code).\n",
      "The column year may not contain PII.\n",
      "The column month may not contain PII.\n",
      "The column ref_num may not contain PII.\n",
      "The column Name Prefix may not contain PII.\n",
      "The column First Name may not contain PII.\n",
      "The column Middle Initial may not contain PII.\n",
      "The column Last Name may not contain PII.\n",
      "The column Gender may not contain PII.\n",
      "The column age may not contain PII.\n",
      "The column full_name may not contain PII.\n",
      "The column E Mail contains PII (email).\n",
      "The column Customer Since may not contain PII.\n",
      "The column SSN contains PII (SSN).\n",
      "The column Phone No.  contains PII (phone number).\n",
      "The column Place Name may not contain PII.\n",
      "The column County may not contain PII.\n",
      "The column City may not contain PII.\n",
      "The column State may not contain PII.\n",
      "The column Zip contains PII (postal code).\n",
      "The column Region may not contain PII.\n",
      "The column User Name may not contain PII.\n",
      "The column Discount_Percent may not contain PII.\n"
     ]
    }
   ],
   "source": [
    "columns = list(sale_data)\n",
    "random_sample = sale_data.sample(n=1000, random_state = 121)\n",
    "\n",
    "for column in columns:\n",
    "    result = \"\"\n",
    "    new_sample = random_sample[column]\n",
    "    #?new_sample\n",
    "    result = a.filterPii(new_sample)\n",
    "    if result == \"\": \n",
    "        print(\"The column \" + column + \" may not contain PII.\")\n",
    "    else:\n",
    "        print(\"The column \" + column + str(result))"
   ]
  },
  {
   "cell_type": "markdown",
   "metadata": {},
   "source": [
    "## Dummy dataset "
   ]
  },
  {
   "cell_type": "code",
   "execution_count": 227,
   "metadata": {},
   "outputs": [],
   "source": [
    "b = PIIFilter()"
   ]
  },
  {
   "cell_type": "code",
   "execution_count": 228,
   "metadata": {},
   "outputs": [
    {
     "name": "stdout",
     "output_type": "stream",
     "text": [
      "The column Full_Name may not contain PII.\n",
      "The column SSN contains PII (SSN).\n",
      "The column Credit_Card_Number contains PII (credit card number).\n"
     ]
    }
   ],
   "source": [
    "columns = list(dummy_data)\n",
    "random_sample = dummy_data.sample(n=1000, random_state = 121)\n",
    "\n",
    "for column in columns:\n",
    "    result = \"\"\n",
    "    new_sample = random_sample[column]\n",
    "    #?new_sample\n",
    "    result = b.filterPii(new_sample)\n",
    "    if result == \"\": \n",
    "        print(\"The column \" + column + \" may not contain PII.\")\n",
    "    else:\n",
    "        print(\"The column \" + column + str(result))"
   ]
  },
  {
   "cell_type": "markdown",
   "metadata": {},
   "source": [
    "## patients dataset"
   ]
  },
  {
   "cell_type": "code",
   "execution_count": 229,
   "metadata": {},
   "outputs": [
    {
     "data": {
      "text/plain": [
       "<bound method NDFrame.head of                                           Id   BIRTHDATE          SSN  \\\n",
       "0       1ff7f10f-a204-4bb1-aa72-dd763fa99482   8/24/2017  999-68-6630   \n",
       "1       9bcf6ed5-d808-44af-98a0-7d78a29ede72    8/1/2016  999-15-5895   \n",
       "2       5163c501-353c-4a82-b863-a3f1df2d6cf1    1/9/2004  999-73-2461   \n",
       "3       cc3c806f-4a09-4a89-a990-4286450956be  11/15/1996  999-60-7372   \n",
       "4       bd1c4ffc-7f1d-4590-adbb-1d6533fb623e   6/12/2019  999-81-4349   \n",
       "...                                      ...         ...          ...   \n",
       "124145  1ecfda69-7afc-4417-8a6f-c00be1be96dc  12/26/1934  999-42-9136   \n",
       "124146  8cf835a7-f161-4fe9-a559-350c97a3450e   9/15/1944  999-62-9011   \n",
       "124147  503d768f-481c-46e2-bcdb-a6116686351a  12/26/1934  999-19-6698   \n",
       "124148  2599e9d9-ca59-44ec-a28c-9eae219f162d  12/26/1934  999-89-4620   \n",
       "124149  f8d85cff-037c-4313-9448-14ac57d586a8  12/26/1934  999-45-7864   \n",
       "\n",
       "          DRIVERS    PASSPORT      FIRST       LAST MARITAL   RACE  \\\n",
       "0             NaN         NaN    Jacinto       Kris     NaN  white   \n",
       "1             NaN         NaN       Alva    Krajcik     NaN  white   \n",
       "2       S99999063         NaN     Jimmie     Harris     NaN  white   \n",
       "3       S99924941   X9952947X   Gregorio       Auer     NaN  white   \n",
       "4             NaN         NaN      Karyn    Mueller     NaN  white   \n",
       "...           ...         ...        ...        ...     ...    ...   \n",
       "124145  S99928645   X8276414X      Colin     Hammes       M  white   \n",
       "124146  S99957357  X33177476X    Enrique      DÃ­az       S  white   \n",
       "124147  S99930474  X22941985X        Abe     Muller       M  white   \n",
       "124148  S99910681  X61264583X       Rick     Stokes       M  white   \n",
       "124149  S99951960  X77281026X  Nathanial  Romaguera       M  white   \n",
       "\n",
       "          ETHNICITY  ...                         ADDRESS              CITY  \\\n",
       "0       nonhispanic  ...       888 Hickle Ferry Suite 38       Springfield   \n",
       "1       nonhispanic  ...             1048 Skiles Trailer           Walpole   \n",
       "2       nonhispanic  ...      201 Mitchell Lodge Unit 67          Pembroke   \n",
       "3       nonhispanic  ...  1050 Lindgren Extension Apt 38            Boston   \n",
       "4       nonhispanic  ...      570 Abshire Forge Suite 32           Colrain   \n",
       "...             ...  ...                             ...               ...   \n",
       "124145  nonhispanic  ...              908 Kuhlman Corner           Taunton   \n",
       "124146     hispanic  ...     625 Feeney Overpass Unit 54  West Springfield   \n",
       "124147  nonhispanic  ...          134 Fay Mission Apt 96           Taunton   \n",
       "124148  nonhispanic  ...               650 Schneider Key           Taunton   \n",
       "124149  nonhispanic  ...    976 Erdman Trafficway Apt 88           Taunton   \n",
       "\n",
       "                STATE           COUNTY     ZIP        LAT        LON  \\\n",
       "0       Massachusetts   Hampden County  1106.0  42.151961 -72.598959   \n",
       "1       Massachusetts   Norfolk County  2081.0  42.177370 -71.281353   \n",
       "2       Massachusetts  Plymouth County     NaN  42.075292 -70.757035   \n",
       "3       Massachusetts   Suffolk County  2135.0  42.352434 -71.028610   \n",
       "4       Massachusetts  Franklin County     NaN  42.740220 -72.722648   \n",
       "...               ...              ...     ...        ...        ...   \n",
       "124145  Massachusetts   Bristol County     NaN  41.916666 -71.107299   \n",
       "124146  Massachusetts   Hampden County  1089.0  42.172918 -72.612259   \n",
       "124147  Massachusetts   Bristol County     NaN  41.949993 -71.067385   \n",
       "124148  Massachusetts   Bristol County     NaN  41.851295 -70.968773   \n",
       "124149  Massachusetts   Bristol County  2780.0  41.897320 -71.013638   \n",
       "\n",
       "        HEALTHCARE_EXPENSES  HEALTHCARE_COVERAGE            full_name  \n",
       "0                   8446.49              1499.08         Jacinto Kris  \n",
       "1                  94568.40              1870.72         Alva Krajcik  \n",
       "2                 375754.62              3131.44        Jimmie Harris  \n",
       "3                 484758.46              3632.96        Gregorio Auer  \n",
       "4                  24130.00               903.28        Karyn Mueller  \n",
       "...                     ...                  ...                  ...  \n",
       "124145           1550123.53              7570.88         Colin Hammes  \n",
       "124146             88863.45              4217.09        Enrique DÃ­az  \n",
       "124147           1645873.03             27376.84           Abe Muller  \n",
       "124148           1482926.42              4683.68          Rick Stokes  \n",
       "124149           1790080.46             13759.92  Nathanial Romaguera  \n",
       "\n",
       "[124150 rows x 22 columns]>"
      ]
     },
     "execution_count": 229,
     "metadata": {},
     "output_type": "execute_result"
    }
   ],
   "source": [
    "patients_data.head"
   ]
  },
  {
   "cell_type": "code",
   "execution_count": 231,
   "metadata": {},
   "outputs": [
    {
     "data": {
      "text/plain": [
       "Id                         0\n",
       "BIRTHDATE                  0\n",
       "SSN                        0\n",
       "DRIVERS                19686\n",
       "PASSPORT               25386\n",
       "FIRST                      0\n",
       "LAST                       0\n",
       "MARITAL                36121\n",
       "RACE                       0\n",
       "ETHNICITY                  0\n",
       "GENDER                     0\n",
       "BIRTHPLACE                 0\n",
       "ADDRESS                    0\n",
       "CITY                       0\n",
       "STATE                      0\n",
       "COUNTY                     0\n",
       "ZIP                    58322\n",
       "LAT                        0\n",
       "LON                        0\n",
       "HEALTHCARE_EXPENSES        0\n",
       "HEALTHCARE_COVERAGE        0\n",
       "full_name                  0\n",
       "dtype: int64"
      ]
     },
     "execution_count": 231,
     "metadata": {},
     "output_type": "execute_result"
    }
   ],
   "source": [
    "pd.isna(patients_data).sum()"
   ]
  },
  {
   "cell_type": "markdown",
   "metadata": {},
   "source": [
    "### discuss with team. The cleaned data has blank values for drivers, passport, zip which we have considered PII."
   ]
  },
  {
   "cell_type": "code",
   "execution_count": 251,
   "metadata": {},
   "outputs": [],
   "source": [
    "c = PIIFilter()"
   ]
  },
  {
   "cell_type": "code",
   "execution_count": 252,
   "metadata": {},
   "outputs": [
    {
     "name": "stdout",
     "output_type": "stream",
     "text": [
      "The column Id may not contain PII.\n",
      "The column BIRTHDATE may not contain PII.\n",
      "The column SSN may not contain PII.\n",
      "The column DRIVERS may not contain PII.\n",
      "The column PASSPORT may not contain PII.\n",
      "The column FIRST may not contain PII.\n",
      "The column LAST may not contain PII.\n",
      "The column MARITAL may not contain PII.\n",
      "The column RACE may not contain PII.\n",
      "The column ETHNICITY may not contain PII.\n",
      "The column GENDER may not contain PII.\n",
      "The column BIRTHPLACE may not contain PII.\n",
      "The column ADDRESS may not contain PII.\n",
      "The column CITY may not contain PII.\n",
      "The column STATE may not contain PII.\n",
      "The column COUNTY may not contain PII.\n",
      "The column ZIP may not contain PII.\n",
      "The column LAT may not contain PII.\n",
      "The column LON may not contain PII.\n",
      "The column HEALTHCARE_EXPENSES may not contain PII.\n",
      "The column HEALTHCARE_COVERAGE may not contain PII.\n",
      "The column full_name may not contain PII.\n"
     ]
    }
   ],
   "source": [
    "columns = list(patients_data)\n",
    "random_sample = patients_data.sample(n=1000, random_state = 121)\n",
    "\n",
    "for column in columns:\n",
    "    result = \"\"\n",
    "    new_sample = random_sample[column]\n",
    "    #?new_sample\n",
    "    result = c.filterPii(new_sample)\n",
    "    if result == \"\": \n",
    "        print(\"The column \" + column + \" may not contain PII.\")\n",
    "    else:\n",
    "        print(\"The column \" + column + str(result))"
   ]
  },
  {
   "cell_type": "code",
   "execution_count": 243,
   "metadata": {},
   "outputs": [
    {
     "data": {
      "text/plain": [
       "<bound method NDFrame.head of                                           Id   BIRTHDATE          SSN  \\\n",
       "0       1ff7f10f-a204-4bb1-aa72-dd763fa99482   8/24/2017  999-68-6630   \n",
       "1       9bcf6ed5-d808-44af-98a0-7d78a29ede72    8/1/2016  999-15-5895   \n",
       "2       5163c501-353c-4a82-b863-a3f1df2d6cf1    1/9/2004  999-73-2461   \n",
       "3       cc3c806f-4a09-4a89-a990-4286450956be  11/15/1996  999-60-7372   \n",
       "4       bd1c4ffc-7f1d-4590-adbb-1d6533fb623e   6/12/2019  999-81-4349   \n",
       "...                                      ...         ...          ...   \n",
       "124145  1ecfda69-7afc-4417-8a6f-c00be1be96dc  12/26/1934  999-42-9136   \n",
       "124146  8cf835a7-f161-4fe9-a559-350c97a3450e   9/15/1944  999-62-9011   \n",
       "124147  503d768f-481c-46e2-bcdb-a6116686351a  12/26/1934  999-19-6698   \n",
       "124148  2599e9d9-ca59-44ec-a28c-9eae219f162d  12/26/1934  999-89-4620   \n",
       "124149  f8d85cff-037c-4313-9448-14ac57d586a8  12/26/1934  999-45-7864   \n",
       "\n",
       "          DRIVERS    PASSPORT      FIRST       LAST MARITAL   RACE  \\\n",
       "0             NaN         NaN    Jacinto       Kris     NaN  white   \n",
       "1             NaN         NaN       Alva    Krajcik     NaN  white   \n",
       "2       S99999063         NaN     Jimmie     Harris     NaN  white   \n",
       "3       S99924941   X9952947X   Gregorio       Auer     NaN  white   \n",
       "4             NaN         NaN      Karyn    Mueller     NaN  white   \n",
       "...           ...         ...        ...        ...     ...    ...   \n",
       "124145  S99928645   X8276414X      Colin     Hammes       M  white   \n",
       "124146  S99957357  X33177476X    Enrique      DÃ­az       S  white   \n",
       "124147  S99930474  X22941985X        Abe     Muller       M  white   \n",
       "124148  S99910681  X61264583X       Rick     Stokes       M  white   \n",
       "124149  S99951960  X77281026X  Nathanial  Romaguera       M  white   \n",
       "\n",
       "          ETHNICITY  ...                         ADDRESS              CITY  \\\n",
       "0       nonhispanic  ...       888 Hickle Ferry Suite 38       Springfield   \n",
       "1       nonhispanic  ...             1048 Skiles Trailer           Walpole   \n",
       "2       nonhispanic  ...      201 Mitchell Lodge Unit 67          Pembroke   \n",
       "3       nonhispanic  ...  1050 Lindgren Extension Apt 38            Boston   \n",
       "4       nonhispanic  ...      570 Abshire Forge Suite 32           Colrain   \n",
       "...             ...  ...                             ...               ...   \n",
       "124145  nonhispanic  ...              908 Kuhlman Corner           Taunton   \n",
       "124146     hispanic  ...     625 Feeney Overpass Unit 54  West Springfield   \n",
       "124147  nonhispanic  ...          134 Fay Mission Apt 96           Taunton   \n",
       "124148  nonhispanic  ...               650 Schneider Key           Taunton   \n",
       "124149  nonhispanic  ...    976 Erdman Trafficway Apt 88           Taunton   \n",
       "\n",
       "                STATE           COUNTY     ZIP        LAT        LON  \\\n",
       "0       Massachusetts   Hampden County  1106.0  42.151961 -72.598959   \n",
       "1       Massachusetts   Norfolk County  2081.0  42.177370 -71.281353   \n",
       "2       Massachusetts  Plymouth County     NaN  42.075292 -70.757035   \n",
       "3       Massachusetts   Suffolk County  2135.0  42.352434 -71.028610   \n",
       "4       Massachusetts  Franklin County     NaN  42.740220 -72.722648   \n",
       "...               ...              ...     ...        ...        ...   \n",
       "124145  Massachusetts   Bristol County     NaN  41.916666 -71.107299   \n",
       "124146  Massachusetts   Hampden County  1089.0  42.172918 -72.612259   \n",
       "124147  Massachusetts   Bristol County     NaN  41.949993 -71.067385   \n",
       "124148  Massachusetts   Bristol County     NaN  41.851295 -70.968773   \n",
       "124149  Massachusetts   Bristol County  2780.0  41.897320 -71.013638   \n",
       "\n",
       "        HEALTHCARE_EXPENSES  HEALTHCARE_COVERAGE            full_name  \n",
       "0                   8446.49              1499.08         Jacinto Kris  \n",
       "1                  94568.40              1870.72         Alva Krajcik  \n",
       "2                 375754.62              3131.44        Jimmie Harris  \n",
       "3                 484758.46              3632.96        Gregorio Auer  \n",
       "4                  24130.00               903.28        Karyn Mueller  \n",
       "...                     ...                  ...                  ...  \n",
       "124145           1550123.53              7570.88         Colin Hammes  \n",
       "124146             88863.45              4217.09        Enrique DÃ­az  \n",
       "124147           1645873.03             27376.84           Abe Muller  \n",
       "124148           1482926.42              4683.68          Rick Stokes  \n",
       "124149           1790080.46             13759.92  Nathanial Romaguera  \n",
       "\n",
       "[124150 rows x 22 columns]>"
      ]
     },
     "execution_count": 243,
     "metadata": {},
     "output_type": "execute_result"
    }
   ],
   "source": [
    "patients_data.head"
   ]
  },
  {
   "cell_type": "code",
   "execution_count": null,
   "metadata": {},
   "outputs": [],
   "source": []
  }
 ],
 "metadata": {
  "kernelspec": {
   "display_name": "Python 3",
   "language": "python",
   "name": "python3"
  },
  "language_info": {
   "codemirror_mode": {
    "name": "ipython",
    "version": 3
   },
   "file_extension": ".py",
   "mimetype": "text/x-python",
   "name": "python",
   "nbconvert_exporter": "python",
   "pygments_lexer": "ipython3",
   "version": "3.8.5"
  }
 },
 "nbformat": 4,
 "nbformat_minor": 4
}
