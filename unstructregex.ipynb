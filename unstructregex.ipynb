{
 "cells": [
  {
   "cell_type": "code",
   "execution_count": 1,
   "id": "f3faa0ec-141e-4843-bd5e-9942fe058700",
   "metadata": {},
   "outputs": [],
   "source": [
    "#!/usr/bin/env python\n",
    "# coding: utf-8\n",
    "import spacy\n",
    "from unstructregex import PIIFilter\n",
    "import numpy as np\n",
    "import re\n",
    "\n",
    "from IPython.display import display_markdown\n",
    "\n"
   ]
  },
  {
   "cell_type": "code",
   "execution_count": 2,
   "id": "866e61f6-9df7-414c-b483-9c4304633712",
   "metadata": {},
   "outputs": [],
   "source": [
    "nlp = spacy.load(\"en_core_web_sm\") "
   ]
  },
  {
   "cell_type": "code",
   "execution_count": 3,
   "id": "c5a4be6b-9017-4c0b-a983-ee634de416a6",
   "metadata": {},
   "outputs": [],
   "source": [
    "with open('text1', 'r') as file: \n",
    "    file_contents = file.read()"
   ]
  },
  {
   "cell_type": "code",
   "execution_count": 4,
   "id": "8d3bcba8-ece2-4005-9f8f-add953a3a011",
   "metadata": {},
   "outputs": [
    {
     "data": {
      "text/plain": [
       "'Phillip,Could you please do me a favor? Call 701-452-3454 I would like to read your current address 22031 policy to see what it says about easements. You should have received a copy during your closing to hakuna@gmail.com and matata@yahoo.com. Details are 5123-4567-8912-3456 and 123-34-1234'"
      ]
     },
     "execution_count": 4,
     "metadata": {},
     "output_type": "execute_result"
    }
   ],
   "source": [
    "#Print the data that was inside the file\n",
    "file_contents"
   ]
  },
  {
   "cell_type": "code",
   "execution_count": 5,
   "id": "0c3b3af6-2aea-4081-8d76-58bda911267b",
   "metadata": {},
   "outputs": [],
   "source": [
    "spacyResult = nlp(file_contents)\n",
    "a = PIIFilter()\n",
    "resultDic = a.filterPii(file_contents)"
   ]
  },
  {
   "cell_type": "code",
   "execution_count": 6,
   "id": "18c604af-1788-4306-8aaf-45c5c4826669",
   "metadata": {},
   "outputs": [
    {
     "data": {
      "text/plain": [
       "{'email': ['hakuna@gmail.com', 'matata@yahoo.com'],\n",
       " 'SSN': ['123-34-1234'],\n",
       " 'phone': ['701-452-3454'],\n",
       " 'zip': ['22031'],\n",
       " 'credit': ['5123-4567-8912-3456'],\n",
       " 'dl': []}"
      ]
     },
     "execution_count": 6,
     "metadata": {},
     "output_type": "execute_result"
    }
   ],
   "source": [
    "resultDic"
   ]
  },
  {
   "cell_type": "code",
   "execution_count": 7,
   "id": "09fe1487-37bd-49e6-bf4f-bc96f0ad1e9b",
   "metadata": {},
   "outputs": [
    {
     "data": {
      "text/plain": [
       "{'123-34-1234': \"<span style='color:#6495ED'>123-34-1234 [SSN]</span>\",\n",
       " '22031': \"<span style='color:#6495ED'>22031 [zip]</span>\",\n",
       " '5123-4567-8912-3456': \"<span style='color:#6495ED'>5123-4567-8912-3456 [credit]</span>\",\n",
       " '701-452-3454': \"<span style='color:#6495ED'>701-452-3454 [phone]</span>\",\n",
       " 'hakuna@gmail.com': \"<span style='color:#6495ED'>hakuna@gmail.com [email]</span>\",\n",
       " 'matata@yahoo.com': \"<span style='color:#6495ED'>matata@yahoo.com [email]</span>\"}"
      ]
     },
     "execution_count": 7,
     "metadata": {},
     "output_type": "execute_result"
    }
   ],
   "source": [
    "all_values = sorted({x for v in resultDic.values() for x in v})\n",
    "dic_category = {}\n",
    "for i in all_values:\n",
    "    for k,j in resultDic.items():\n",
    "        if i in j:\n",
    "            # dic_category[i] = i + \" [\"+k+\"]\"\n",
    "            dic_category[i] = \"<span style='color:#6495ED'>\"+i + \" [\"+k+\"]\"+\"</span>\"\n",
    "            \n",
    "dic_category"
   ]
  },
  {
   "cell_type": "code",
   "execution_count": 8,
   "id": "d2a0a5a6-1f0a-48de-a678-f69ab770a1f1",
   "metadata": {},
   "outputs": [
    {
     "name": "stdout",
     "output_type": "stream",
     "text": [
      "123-34-1234 --- <span style='color:#6495ED'>123-34-1234 [SSN]</span>\n",
      "22031 --- <span style='color:#6495ED'>22031 [zip]</span>\n",
      "5123-4567-8912-3456 --- <span style='color:#6495ED'>5123-4567-8912-3456 [credit]</span>\n",
      "701-452-3454 --- <span style='color:#6495ED'>701-452-3454 [phone]</span>\n",
      "hakuna@gmail.com --- <span style='color:#6495ED'>hakuna@gmail.com [email]</span>\n",
      "matata@yahoo.com --- <span style='color:#6495ED'>matata@yahoo.com [email]</span>\n"
     ]
    }
   ],
   "source": [
    "file_contents2 = file_contents\n",
    "for k,v in dic_category.items():\n",
    "    print(k,\"---\",v)\n",
    "    file_contents2 = file_contents2.replace(k, v)"
   ]
  },
  {
   "cell_type": "code",
   "execution_count": 9,
   "id": "f1d56dc8-5f6e-4f3a-be77-d947dde8cd83",
   "metadata": {},
   "outputs": [
    {
     "data": {
      "text/plain": [
       "\"Phillip,Could you please do me a favor? Call <span style='color:#6495ED'>701-452-3454 [phone]</span> I would like to read your current address <span style='color:#6495ED'>22031 [zip]</span> policy to see what it says about easements. You should have received a copy during your closing to <span style='color:#6495ED'>hakuna@gmail.com [email]</span> and <span style='color:#6495ED'>matata@yahoo.com [email]</span>. Details are <span style='color:#6495ED'>5123-4567-8912-3456 [credit]</span> and <span style='color:#6495ED'>123-34-1234 [SSN]</span>\""
      ]
     },
     "execution_count": 9,
     "metadata": {},
     "output_type": "execute_result"
    }
   ],
   "source": [
    "file_contents2"
   ]
  },
  {
   "cell_type": "code",
   "execution_count": 10,
   "id": "3d316aae-9baf-4025-8183-a8bf7bc6e7a3",
   "metadata": {},
   "outputs": [
    {
     "data": {
      "text/markdown": [
       "Phillip,Could you please do me a favor? Call <span style='color:#6495ED'>701-452-3454 [phone]</span> I would like to read your current address <span style='color:#6495ED'>22031 [zip]</span> policy to see what it says about easements. You should have received a copy during your closing to <span style='color:#6495ED'>hakuna@gmail.com [email]</span> and <span style='color:#6495ED'>matata@yahoo.com [email]</span>. Details are <span style='color:#6495ED'>5123-4567-8912-3456 [credit]</span> and <span style='color:#6495ED'>123-34-1234 [SSN]</span>"
      ]
     },
     "metadata": {},
     "output_type": "display_data"
    }
   ],
   "source": [
    "display_markdown(file_contents2, raw=True)"
   ]
  },
  {
   "cell_type": "code",
   "execution_count": null,
   "id": "1bb6f8d2-b52e-4f37-b6ff-281ff91522da",
   "metadata": {},
   "outputs": [],
   "source": []
  }
 ],
 "metadata": {
  "kernelspec": {
   "display_name": "Python 3",
   "language": "python",
   "name": "python3"
  },
  "language_info": {
   "codemirror_mode": {
    "name": "ipython",
    "version": 3
   },
   "file_extension": ".py",
   "mimetype": "text/x-python",
   "name": "python",
   "nbconvert_exporter": "python",
   "pygments_lexer": "ipython3",
   "version": "3.9.5"
  }
 },
 "nbformat": 4,
 "nbformat_minor": 5
}
