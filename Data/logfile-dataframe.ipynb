{
 "cells": [
  {
   "cell_type": "code",
   "execution_count": 1,
   "id": "bc3ec5bc-13da-48d2-bd5e-7a7fccaf839b",
   "metadata": {},
   "outputs": [],
   "source": [
    "import pandas as pd\n",
    "import re\n",
    "import numpy as np\n",
    "\n",
    "\n",
    "## download  \"logfile.log\" from \"https://www.kaggle.com/datasets/vishnu0399/server-logs?resource=download\""
   ]
  },
  {
   "cell_type": "code",
   "execution_count": 2,
   "id": "cb5d7041-f182-4d2a-b7b2-12f48c697ca6",
   "metadata": {},
   "outputs": [
    {
     "name": "stdout",
     "output_type": "stream",
     "text": [
      "CPU times: user 402 ms, sys: 475 ms, total: 877 ms\n",
      "Wall time: 974 ms\n"
     ]
    }
   ],
   "source": [
    "%%time\n",
    "with open(\"logfile.log\") as file:\n",
    "    data = file.read()"
   ]
  },
  {
   "cell_type": "code",
   "execution_count": 3,
   "id": "7915d1f4-baaf-46d6-bc75-a9c7c0f5d835",
   "metadata": {},
   "outputs": [
    {
     "data": {
      "text/plain": [
       "223"
      ]
     },
     "execution_count": 3,
     "metadata": {},
     "output_type": "execute_result"
    }
   ],
   "source": [
    "len(data.split(\"\\n\")[0])"
   ]
  },
  {
   "cell_type": "code",
   "execution_count": 4,
   "id": "1eb164fa-fbe9-444c-9562-5bcab25d3d36",
   "metadata": {},
   "outputs": [
    {
     "data": {
      "text/plain": [
       "('233.223.117.90 - - [27/Dec/2037:12:00:00 +0530] \"DELETE /usr/admin HTTP/1.0\" 502 4963 \"-\" \"Mozilla/5.0 (Windows NT 10.0; Win64; x64) AppleWebKit/537.36 (KHTML, like Gecko) Chrome/89.0.4380.0 Safari/537.36 Edg/89.0.759.0\" 45',\n",
       " '')"
      ]
     },
     "execution_count": 4,
     "metadata": {},
     "output_type": "execute_result"
    }
   ],
   "source": [
    "lines = data.split(\"\\n\")\n",
    "lines[0], lines[-1]"
   ]
  },
  {
   "cell_type": "code",
   "execution_count": 5,
   "id": "3772250d-6281-4fa0-baf6-9e1554256955",
   "metadata": {},
   "outputs": [],
   "source": [
    "lines = lines[:-1]"
   ]
  },
  {
   "cell_type": "code",
   "execution_count": 6,
   "id": "bb31dd8e-f220-4ad2-b6d3-fd67fadd0301",
   "metadata": {},
   "outputs": [],
   "source": [
    "# np.unique([True for i in lines if '- -' in i])"
   ]
  },
  {
   "cell_type": "code",
   "execution_count": 7,
   "id": "9c76e194-8c7f-42fd-b48d-339a3bb7dcac",
   "metadata": {},
   "outputs": [
    {
     "name": "stdout",
     "output_type": "stream",
     "text": [
      "1\n",
      "4\n",
      "5\n",
      "6\n",
      "7\n",
      "8\n",
      "9\n",
      "10\n",
      "11\n",
      "12\n",
      "CPU times: user 11.6 s, sys: 397 ms, total: 12 s\n",
      "Wall time: 12 s\n"
     ]
    }
   ],
   "source": [
    "%%time\n",
    "\n",
    "x1 = [i.split(\" - - \")[0] for i in lines]\n",
    "print(\"1\")\n",
    "x4 = [re.findall(\"\\[(.*)\\]\", i)[0] for i in lines]\n",
    "print(\"4\")\n",
    "\n",
    "x = [re.findall('\"([^\"]*)\"', i) for i in lines]\n",
    "\n",
    "x5 = [i[0].split()[0] for i in x]\n",
    "print(\"5\")\n",
    "x6 = [i[0].split()[1] for i in x]\n",
    "print(\"6\")\n",
    "x7 = [i[0].split()[2] for i in x]\n",
    "print(\"7\")\n",
    "x8 = [(i.split()[8]) for i in lines]\n",
    "print(\"8\")\n",
    "x9 = [(i.split()[9]) for i in lines]\n",
    "print(\"9\")\n",
    "x10 = [i[1] for i in x]\n",
    "print(\"10\")\n",
    "x11 = [i[2] for i in x]\n",
    "print(\"11\")\n",
    "x12 = [i.split(\" \")[-1] for i in lines]\n",
    "print(\"12\")"
   ]
  },
  {
   "cell_type": "code",
   "execution_count": 8,
   "id": "5e56a903-60b9-43a1-8516-0f39d62eb24a",
   "metadata": {},
   "outputs": [
    {
     "name": "stdout",
     "output_type": "stream",
     "text": [
      "CPU times: user 1.17 s, sys: 153 ms, total: 1.32 s\n",
      "Wall time: 1.32 s\n"
     ]
    }
   ],
   "source": [
    "%%time\n",
    "\n",
    "columnNames = ['IP', 'timeUTC', 'requestType', 'API', 'protocol', 'status', 'byte', 'referrer', 'UAS', 'responseTime']\n",
    "df = pd.DataFrame(list(zip(x1, x4, x5, x6, x7, x8, x9, x10, x11, x12)), columns = columnNames)\n"
   ]
  },
  {
   "cell_type": "code",
   "execution_count": 9,
   "id": "e5b4fafc-7510-4f3f-a313-1c61f2804154",
   "metadata": {},
   "outputs": [
    {
     "data": {
      "text/html": [
       "<div>\n",
       "<style scoped>\n",
       "    .dataframe tbody tr th:only-of-type {\n",
       "        vertical-align: middle;\n",
       "    }\n",
       "\n",
       "    .dataframe tbody tr th {\n",
       "        vertical-align: top;\n",
       "    }\n",
       "\n",
       "    .dataframe thead th {\n",
       "        text-align: right;\n",
       "    }\n",
       "</style>\n",
       "<table border=\"1\" class=\"dataframe\">\n",
       "  <thead>\n",
       "    <tr style=\"text-align: right;\">\n",
       "      <th></th>\n",
       "      <th>IP</th>\n",
       "      <th>timeUTC</th>\n",
       "      <th>requestType</th>\n",
       "      <th>API</th>\n",
       "      <th>protocol</th>\n",
       "      <th>status</th>\n",
       "      <th>byte</th>\n",
       "      <th>referrer</th>\n",
       "      <th>UAS</th>\n",
       "      <th>responseTime</th>\n",
       "    </tr>\n",
       "  </thead>\n",
       "  <tbody>\n",
       "    <tr>\n",
       "      <th>0</th>\n",
       "      <td>233.223.117.90</td>\n",
       "      <td>27/Dec/2037:12:00:00 +0530</td>\n",
       "      <td>DELETE</td>\n",
       "      <td>/usr/admin</td>\n",
       "      <td>HTTP/1.0</td>\n",
       "      <td>502</td>\n",
       "      <td>4963</td>\n",
       "      <td>-</td>\n",
       "      <td>Mozilla/5.0 (Windows NT 10.0; Win64; x64) Appl...</td>\n",
       "      <td>45</td>\n",
       "    </tr>\n",
       "    <tr>\n",
       "      <th>1</th>\n",
       "      <td>162.253.4.179</td>\n",
       "      <td>27/Dec/2037:12:00:00 +0530</td>\n",
       "      <td>GET</td>\n",
       "      <td>/usr/admin/developer</td>\n",
       "      <td>HTTP/1.0</td>\n",
       "      <td>200</td>\n",
       "      <td>5041</td>\n",
       "      <td>http://www.parker-miller.org/tag/list/list/pri...</td>\n",
       "      <td>Mozilla/5.0 (Windows NT 10.0; Win64; x64) Appl...</td>\n",
       "      <td>3885</td>\n",
       "    </tr>\n",
       "    <tr>\n",
       "      <th>2</th>\n",
       "      <td>252.156.232.172</td>\n",
       "      <td>27/Dec/2037:12:00:00 +0530</td>\n",
       "      <td>POST</td>\n",
       "      <td>/usr/register</td>\n",
       "      <td>HTTP/1.0</td>\n",
       "      <td>404</td>\n",
       "      <td>5028</td>\n",
       "      <td>-</td>\n",
       "      <td>Mozilla/5.0 (Windows NT 10.0; Win64; x64) Appl...</td>\n",
       "      <td>3350</td>\n",
       "    </tr>\n",
       "    <tr>\n",
       "      <th>3</th>\n",
       "      <td>182.215.249.159</td>\n",
       "      <td>27/Dec/2037:12:00:00 +0530</td>\n",
       "      <td>PUT</td>\n",
       "      <td>/usr/register</td>\n",
       "      <td>HTTP/1.0</td>\n",
       "      <td>304</td>\n",
       "      <td>4936</td>\n",
       "      <td>http://www.parker-miller.org/tag/list/list/pri...</td>\n",
       "      <td>Mozilla/5.0 (Android 10; Mobile; rv:84.0) Geck...</td>\n",
       "      <td>767</td>\n",
       "    </tr>\n",
       "    <tr>\n",
       "      <th>4</th>\n",
       "      <td>160.36.208.51</td>\n",
       "      <td>27/Dec/2037:12:00:00 +0530</td>\n",
       "      <td>POST</td>\n",
       "      <td>/usr</td>\n",
       "      <td>HTTP/1.0</td>\n",
       "      <td>304</td>\n",
       "      <td>4979</td>\n",
       "      <td>http://www.parker-miller.org/tag/list/list/pri...</td>\n",
       "      <td>Mozilla/5.0 (Linux; Android 10; ONEPLUS A6000)...</td>\n",
       "      <td>84</td>\n",
       "    </tr>\n",
       "    <tr>\n",
       "      <th>...</th>\n",
       "      <td>...</td>\n",
       "      <td>...</td>\n",
       "      <td>...</td>\n",
       "      <td>...</td>\n",
       "      <td>...</td>\n",
       "      <td>...</td>\n",
       "      <td>...</td>\n",
       "      <td>...</td>\n",
       "      <td>...</td>\n",
       "      <td>...</td>\n",
       "    </tr>\n",
       "    <tr>\n",
       "      <th>999995</th>\n",
       "      <td>203.210.144.42</td>\n",
       "      <td>27/Dec/2037:12:00:00 +0530</td>\n",
       "      <td>DELETE</td>\n",
       "      <td>/usr/admin</td>\n",
       "      <td>HTTP/1.0</td>\n",
       "      <td>303</td>\n",
       "      <td>5022</td>\n",
       "      <td>http://www.parker-miller.org/tag/list/list/pri...</td>\n",
       "      <td>Mozilla/5.0 (Windows NT 10.0; Win64; x64) Appl...</td>\n",
       "      <td>4451</td>\n",
       "    </tr>\n",
       "    <tr>\n",
       "      <th>999996</th>\n",
       "      <td>16.52.128.114</td>\n",
       "      <td>27/Dec/2037:12:00:00 +0530</td>\n",
       "      <td>PUT</td>\n",
       "      <td>/usr/admin/developer</td>\n",
       "      <td>HTTP/1.0</td>\n",
       "      <td>500</td>\n",
       "      <td>5013</td>\n",
       "      <td>http://www.parker-miller.org/tag/list/list/pri...</td>\n",
       "      <td>Mozilla/5.0 (Windows NT 10.0; Win64; x64) Appl...</td>\n",
       "      <td>3272</td>\n",
       "    </tr>\n",
       "    <tr>\n",
       "      <th>999997</th>\n",
       "      <td>181.186.85.10</td>\n",
       "      <td>27/Dec/2037:12:00:00 +0530</td>\n",
       "      <td>DELETE</td>\n",
       "      <td>/usr/login</td>\n",
       "      <td>HTTP/1.0</td>\n",
       "      <td>500</td>\n",
       "      <td>4941</td>\n",
       "      <td>http://www.parker-miller.org/tag/list/list/pri...</td>\n",
       "      <td>Mozilla/5.0 (Windows NT 10.0; Win64; x64; rv:8...</td>\n",
       "      <td>945</td>\n",
       "    </tr>\n",
       "    <tr>\n",
       "      <th>999998</th>\n",
       "      <td>4.72.20.141</td>\n",
       "      <td>27/Dec/2037:12:00:00 +0530</td>\n",
       "      <td>POST</td>\n",
       "      <td>/usr</td>\n",
       "      <td>HTTP/1.0</td>\n",
       "      <td>500</td>\n",
       "      <td>4998</td>\n",
       "      <td>http://www.parker-miller.org/tag/list/list/pri...</td>\n",
       "      <td>Mozilla/5.0 (Macintosh; Intel Mac OS X 10_9_3)...</td>\n",
       "      <td>830</td>\n",
       "    </tr>\n",
       "    <tr>\n",
       "      <th>999999</th>\n",
       "      <td>173.79.77.52</td>\n",
       "      <td>27/Dec/2037:12:00:00 +0530</td>\n",
       "      <td>GET</td>\n",
       "      <td>/usr</td>\n",
       "      <td>HTTP/1.0</td>\n",
       "      <td>200</td>\n",
       "      <td>5012</td>\n",
       "      <td>-</td>\n",
       "      <td>Mozilla/5.0 (Android 10; Mobile; rv:84.0) Geck...</td>\n",
       "      <td>3330</td>\n",
       "    </tr>\n",
       "  </tbody>\n",
       "</table>\n",
       "<p>1000000 rows × 10 columns</p>\n",
       "</div>"
      ],
      "text/plain": [
       "                     IP                     timeUTC requestType  \\\n",
       "0        233.223.117.90  27/Dec/2037:12:00:00 +0530      DELETE   \n",
       "1         162.253.4.179  27/Dec/2037:12:00:00 +0530         GET   \n",
       "2       252.156.232.172  27/Dec/2037:12:00:00 +0530        POST   \n",
       "3       182.215.249.159  27/Dec/2037:12:00:00 +0530         PUT   \n",
       "4         160.36.208.51  27/Dec/2037:12:00:00 +0530        POST   \n",
       "...                 ...                         ...         ...   \n",
       "999995   203.210.144.42  27/Dec/2037:12:00:00 +0530      DELETE   \n",
       "999996    16.52.128.114  27/Dec/2037:12:00:00 +0530         PUT   \n",
       "999997    181.186.85.10  27/Dec/2037:12:00:00 +0530      DELETE   \n",
       "999998      4.72.20.141  27/Dec/2037:12:00:00 +0530        POST   \n",
       "999999     173.79.77.52  27/Dec/2037:12:00:00 +0530         GET   \n",
       "\n",
       "                         API  protocol status  byte  \\\n",
       "0                 /usr/admin  HTTP/1.0    502  4963   \n",
       "1       /usr/admin/developer  HTTP/1.0    200  5041   \n",
       "2              /usr/register  HTTP/1.0    404  5028   \n",
       "3              /usr/register  HTTP/1.0    304  4936   \n",
       "4                       /usr  HTTP/1.0    304  4979   \n",
       "...                      ...       ...    ...   ...   \n",
       "999995            /usr/admin  HTTP/1.0    303  5022   \n",
       "999996  /usr/admin/developer  HTTP/1.0    500  5013   \n",
       "999997            /usr/login  HTTP/1.0    500  4941   \n",
       "999998                  /usr  HTTP/1.0    500  4998   \n",
       "999999                  /usr  HTTP/1.0    200  5012   \n",
       "\n",
       "                                                 referrer  \\\n",
       "0                                                       -   \n",
       "1       http://www.parker-miller.org/tag/list/list/pri...   \n",
       "2                                                       -   \n",
       "3       http://www.parker-miller.org/tag/list/list/pri...   \n",
       "4       http://www.parker-miller.org/tag/list/list/pri...   \n",
       "...                                                   ...   \n",
       "999995  http://www.parker-miller.org/tag/list/list/pri...   \n",
       "999996  http://www.parker-miller.org/tag/list/list/pri...   \n",
       "999997  http://www.parker-miller.org/tag/list/list/pri...   \n",
       "999998  http://www.parker-miller.org/tag/list/list/pri...   \n",
       "999999                                                  -   \n",
       "\n",
       "                                                      UAS responseTime  \n",
       "0       Mozilla/5.0 (Windows NT 10.0; Win64; x64) Appl...           45  \n",
       "1       Mozilla/5.0 (Windows NT 10.0; Win64; x64) Appl...         3885  \n",
       "2       Mozilla/5.0 (Windows NT 10.0; Win64; x64) Appl...         3350  \n",
       "3       Mozilla/5.0 (Android 10; Mobile; rv:84.0) Geck...          767  \n",
       "4       Mozilla/5.0 (Linux; Android 10; ONEPLUS A6000)...           84  \n",
       "...                                                   ...          ...  \n",
       "999995  Mozilla/5.0 (Windows NT 10.0; Win64; x64) Appl...         4451  \n",
       "999996  Mozilla/5.0 (Windows NT 10.0; Win64; x64) Appl...         3272  \n",
       "999997  Mozilla/5.0 (Windows NT 10.0; Win64; x64; rv:8...          945  \n",
       "999998  Mozilla/5.0 (Macintosh; Intel Mac OS X 10_9_3)...          830  \n",
       "999999  Mozilla/5.0 (Android 10; Mobile; rv:84.0) Geck...         3330  \n",
       "\n",
       "[1000000 rows x 10 columns]"
      ]
     },
     "execution_count": 9,
     "metadata": {},
     "output_type": "execute_result"
    }
   ],
   "source": [
    "df"
   ]
  },
  {
   "cell_type": "code",
   "execution_count": 11,
   "id": "ad903060-d1f0-4257-ada0-c80dd380d137",
   "metadata": {},
   "outputs": [],
   "source": [
    "df.to_csv('logs.csv')"
   ]
  },
  {
   "cell_type": "code",
   "execution_count": null,
   "id": "bf9bf868-78e3-4bfd-b904-3543c2f320b4",
   "metadata": {},
   "outputs": [],
   "source": []
  }
 ],
 "metadata": {
  "kernelspec": {
   "display_name": "Python 3",
   "language": "python",
   "name": "python3"
  },
  "language_info": {
   "codemirror_mode": {
    "name": "ipython",
    "version": 3
   },
   "file_extension": ".py",
   "mimetype": "text/x-python",
   "name": "python",
   "nbconvert_exporter": "python",
   "pygments_lexer": "ipython3",
   "version": "3.9.5"
  }
 },
 "nbformat": 4,
 "nbformat_minor": 5
}
