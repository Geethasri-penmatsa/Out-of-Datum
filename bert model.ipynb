{
 "cells": [
  {
   "cell_type": "code",
   "execution_count": 8,
   "metadata": {},
   "outputs": [],
   "source": [
    "import tensorflow as tf\n",
    "import tensorflow_hub as hub\n",
    "import tensorflow_text as text\n",
    "\n",
    "import pandas as pd"
   ]
  },
  {
   "cell_type": "code",
   "execution_count": 9,
   "metadata": {},
   "outputs": [],
   "source": [
    "from datasets import load_dataset"
   ]
  },
  {
   "cell_type": "code",
   "execution_count": 10,
   "metadata": {},
   "outputs": [
    {
     "name": "stderr",
     "output_type": "stream",
     "text": [
      "Using custom data configuration default\n",
      "Found cached dataset aeslc (C:/Users/mchou/.cache/huggingface/datasets/aeslc/default/1.0.0/eb8e30234cf984a58ebe9f205674597ac1db2ec91e7321cd7f36864f7e3671b8)\n"
     ]
    },
    {
     "data": {
      "application/vnd.jupyter.widget-view+json": {
       "model_id": "62683da01aa34a51a83f27e822596123",
       "version_major": 2,
       "version_minor": 0
      },
      "text/plain": [
       "  0%|          | 0/3 [00:00<?, ?it/s]"
      ]
     },
     "metadata": {},
     "output_type": "display_data"
    }
   ],
   "source": [
    "dataset = load_dataset(\"aeslc\")"
   ]
  },
  {
   "cell_type": "markdown",
   "metadata": {},
   "source": [
    "# Import the dataset (Dataset is taken from kaggle)"
   ]
  },
  {
   "cell_type": "code",
   "execution_count": 17,
   "metadata": {},
   "outputs": [],
   "source": [
    "source_train_df = pd.DataFrame(dataset[\"train\"])\n",
    "source_train_df.to_csv(\"train.csv\",index=False)"
   ]
  },
  {
   "cell_type": "code",
   "execution_count": 18,
   "metadata": {},
   "outputs": [],
   "source": [
    "validation_train_df = pd.DataFrame(dataset[\"validation\"])"
   ]
  },
  {
   "cell_type": "code",
   "execution_count": 19,
   "metadata": {},
   "outputs": [],
   "source": [
    "test_train_df = pd.DataFrame(dataset[\"test\"])"
   ]
  },
  {
   "cell_type": "code",
   "execution_count": 20,
   "metadata": {},
   "outputs": [],
   "source": [
    "data1_df = pd.read_csv(\"data\\cnn\\data1.csv\")"
   ]
  },
  {
   "cell_type": "code",
   "execution_count": null,
   "metadata": {},
   "outputs": [],
   "source": []
  },
  {
   "cell_type": "code",
   "execution_count": 21,
   "metadata": {},
   "outputs": [
    {
     "data": {
      "text/html": [
       "<div>\n",
       "<style scoped>\n",
       "    .dataframe tbody tr th:only-of-type {\n",
       "        vertical-align: middle;\n",
       "    }\n",
       "\n",
       "    .dataframe tbody tr th {\n",
       "        vertical-align: top;\n",
       "    }\n",
       "\n",
       "    .dataframe thead tr th {\n",
       "        text-align: left;\n",
       "    }\n",
       "\n",
       "    .dataframe thead tr:last-of-type th {\n",
       "        text-align: right;\n",
       "    }\n",
       "</style>\n",
       "<table border=\"1\" class=\"dataframe\">\n",
       "  <thead>\n",
       "    <tr>\n",
       "      <th></th>\n",
       "      <th colspan=\"4\" halign=\"left\">Message</th>\n",
       "    </tr>\n",
       "    <tr>\n",
       "      <th></th>\n",
       "      <th>count</th>\n",
       "      <th>unique</th>\n",
       "      <th>top</th>\n",
       "      <th>freq</th>\n",
       "    </tr>\n",
       "    <tr>\n",
       "      <th>Category</th>\n",
       "      <th></th>\n",
       "      <th></th>\n",
       "      <th></th>\n",
       "      <th></th>\n",
       "    </tr>\n",
       "  </thead>\n",
       "  <tbody>\n",
       "    <tr>\n",
       "      <th>0.0</th>\n",
       "      <td>393</td>\n",
       "      <td>389</td>\n",
       "      <td>You have received this message because someone...</td>\n",
       "      <td>2</td>\n",
       "    </tr>\n",
       "    <tr>\n",
       "      <th>1.0</th>\n",
       "      <td>1509</td>\n",
       "      <td>1506</td>\n",
       "      <td>You have received this message because someone...</td>\n",
       "      <td>4</td>\n",
       "    </tr>\n",
       "  </tbody>\n",
       "</table>\n",
       "</div>"
      ],
      "text/plain": [
       "         Message                                                            \\\n",
       "           count unique                                                top   \n",
       "Category                                                                     \n",
       "0.0          393    389  You have received this message because someone...   \n",
       "1.0         1509   1506  You have received this message because someone...   \n",
       "\n",
       "               \n",
       "         freq  \n",
       "Category       \n",
       "0.0         2  \n",
       "1.0         4  "
      ]
     },
     "execution_count": 21,
     "metadata": {},
     "output_type": "execute_result"
    }
   ],
   "source": [
    "data1_df.groupby('Category').describe()"
   ]
  },
  {
   "cell_type": "code",
   "execution_count": 22,
   "metadata": {},
   "outputs": [
    {
     "data": {
      "text/plain": [
       "1.0    1509\n",
       "0.0     393\n",
       "Name: Category, dtype: int64"
      ]
     },
     "execution_count": 22,
     "metadata": {},
     "output_type": "execute_result"
    }
   ],
   "source": [
    "data1_df['Category'].value_counts()"
   ]
  },
  {
   "cell_type": "code",
   "execution_count": 23,
   "metadata": {},
   "outputs": [
    {
     "data": {
      "text/plain": [
       "0.26043737574552683"
      ]
     },
     "execution_count": 23,
     "metadata": {},
     "output_type": "execute_result"
    }
   ],
   "source": [
    "393/1509"
   ]
  },
  {
   "cell_type": "markdown",
   "metadata": {},
   "source": [
    "# 24% not pii, 76% pii: This indicates class imbalance"
   ]
  },
  {
   "cell_type": "code",
   "execution_count": 24,
   "metadata": {},
   "outputs": [
    {
     "data": {
      "text/plain": [
       "(1509, 2)"
      ]
     },
     "execution_count": 24,
     "metadata": {},
     "output_type": "execute_result"
    }
   ],
   "source": [
    "\n",
    "data1_df_pii = data1_df[data1_df['Category']==1]\n",
    "data1_df_pii.shape"
   ]
  },
  {
   "cell_type": "code",
   "execution_count": 25,
   "metadata": {},
   "outputs": [
    {
     "data": {
      "text/plain": [
       "(393, 2)"
      ]
     },
     "execution_count": 25,
     "metadata": {},
     "output_type": "execute_result"
    }
   ],
   "source": [
    "data1_df_no_pii = data1_df[data1_df['Category']==0]\n",
    "data1_df_no_pii.shape"
   ]
  },
  {
   "cell_type": "code",
   "execution_count": 26,
   "metadata": {},
   "outputs": [
    {
     "data": {
      "text/plain": [
       "(393, 2)"
      ]
     },
     "execution_count": 26,
     "metadata": {},
     "output_type": "execute_result"
    }
   ],
   "source": [
    "data1_pii_downsampled = data1_df_pii.sample(data1_df_no_pii.shape[0])\n",
    "data1_pii_downsampled.shape"
   ]
  },
  {
   "cell_type": "code",
   "execution_count": 27,
   "metadata": {},
   "outputs": [
    {
     "data": {
      "text/plain": [
       "(786, 2)"
      ]
     },
     "execution_count": 27,
     "metadata": {},
     "output_type": "execute_result"
    }
   ],
   "source": [
    "data1_balanced = pd.concat([data1_pii_downsampled, data1_df_no_pii])\n",
    "data1_balanced.shape"
   ]
  },
  {
   "cell_type": "code",
   "execution_count": 28,
   "metadata": {},
   "outputs": [
    {
     "data": {
      "text/plain": [
       "0.0    393\n",
       "1.0    393\n",
       "Name: Category, dtype: int64"
      ]
     },
     "execution_count": 28,
     "metadata": {},
     "output_type": "execute_result"
    }
   ],
   "source": [
    "data1_balanced['Category'].value_counts()"
   ]
  },
  {
   "cell_type": "markdown",
   "metadata": {},
   "source": [
    "# Split it into training and test data set"
   ]
  },
  {
   "cell_type": "code",
   "execution_count": null,
   "metadata": {},
   "outputs": [],
   "source": []
  },
  {
   "cell_type": "code",
   "execution_count": 29,
   "metadata": {},
   "outputs": [],
   "source": [
    "from sklearn.model_selection import train_test_split\n",
    "\n",
    "X_train, X_test, y_train, y_test = train_test_split(data1_balanced['Message'],data1_balanced['Category'], stratify=data1_balanced['Category'])"
   ]
  },
  {
   "cell_type": "code",
   "execution_count": 30,
   "metadata": {},
   "outputs": [
    {
     "data": {
      "text/plain": [
       "1777    This is way over the top as far as what you an...\n",
       "955                                       Topper, Stanton\n",
       "31      John:  The Enron deal at Elba Island amounts t...\n",
       "1761    Sally:  Thanks for the call today and I look f...\n",
       "Name: Message, dtype: object"
      ]
     },
     "execution_count": 30,
     "metadata": {},
     "output_type": "execute_result"
    }
   ],
   "source": [
    "X_train.head(4)"
   ]
  },
  {
   "cell_type": "markdown",
   "metadata": {},
   "source": [
    "# Now lets import BERT model and get embeding vectors for few sample statements"
   ]
  },
  {
   "cell_type": "code",
   "execution_count": 31,
   "metadata": {},
   "outputs": [
    {
     "name": "stdout",
     "output_type": "stream",
     "text": [
      "WARNING:tensorflow:Please fix your imports. Module tensorflow.python.training.tracking.data_structures has been moved to tensorflow.python.trackable.data_structures. The old module will be deleted in version 2.11.\n"
     ]
    }
   ],
   "source": [
    "bert_preprocess = hub.KerasLayer(\"https://tfhub.dev/tensorflow/bert_en_uncased_preprocess/3\")\n",
    "bert_encoder = hub.KerasLayer(\"https://tfhub.dev/tensorflow/bert_en_uncased_L-12_H-768_A-12/4\")"
   ]
  },
  {
   "cell_type": "code",
   "execution_count": 32,
   "metadata": {},
   "outputs": [
    {
     "data": {
      "text/plain": [
       "<tf.Tensor: shape=(2, 768), dtype=float32, numpy=\n",
       "array([[-0.8435169 , -0.5132727 , -0.8884572 , ..., -0.7474887 ,\n",
       "        -0.75314736,  0.91964495],\n",
       "       [-0.87208354, -0.50543964, -0.9444669 , ..., -0.8584749 ,\n",
       "        -0.7174534 ,  0.88082975]], dtype=float32)>"
      ]
     },
     "execution_count": 32,
     "metadata": {},
     "output_type": "execute_result"
    }
   ],
   "source": [
    "def get_sentence_embeding(sentences):\n",
    "    preprocessed_text = bert_preprocess(sentences)\n",
    "    return bert_encoder(preprocessed_text)['pooled_output']\n",
    "\n",
    "get_sentence_embeding([\n",
    "    \"500$ discount. hurry up\", \n",
    "    \"Bhavin, are you up for a volleybal game tomorrow?\"]\n",
    ")"
   ]
  },
  {
   "cell_type": "markdown",
   "metadata": {},
   "source": [
    "# Build Model\n"
   ]
  },
  {
   "cell_type": "markdown",
   "metadata": {},
   "source": [
    "There are two types of models you can build in tensorflow.\n",
    "\n",
    "(1) Sequential (2) Functional"
   ]
  },
  {
   "cell_type": "code",
   "execution_count": 33,
   "metadata": {},
   "outputs": [],
   "source": [
    "# Bert layers\n",
    "text_input = tf.keras.layers.Input(shape=(), dtype=tf.string, name='text')\n",
    "preprocessed_text = bert_preprocess(text_input)\n",
    "outputs = bert_encoder(preprocessed_text)\n",
    "\n",
    "# Neural network layers\n",
    "l = tf.keras.layers.Dropout(0.1, name=\"dropout\")(outputs['pooled_output'])\n",
    "l = tf.keras.layers.Dense(1, activation='sigmoid', name=\"output\")(l)\n",
    "\n",
    "# Use inputs and outputs to construct a final model\n",
    "model = tf.keras.Model(inputs=[text_input], outputs = [l])"
   ]
  },
  {
   "cell_type": "code",
   "execution_count": 34,
   "metadata": {},
   "outputs": [
    {
     "name": "stdout",
     "output_type": "stream",
     "text": [
      "Model: \"model\"\n",
      "__________________________________________________________________________________________________\n",
      " Layer (type)                   Output Shape         Param #     Connected to                     \n",
      "==================================================================================================\n",
      " text (InputLayer)              [(None,)]            0           []                               \n",
      "                                                                                                  \n",
      " keras_layer (KerasLayer)       {'input_word_ids':   0           ['text[0][0]']                   \n",
      "                                (None, 128),                                                      \n",
      "                                 'input_type_ids':                                                \n",
      "                                (None, 128),                                                      \n",
      "                                 'input_mask': (Non                                               \n",
      "                                e, 128)}                                                          \n",
      "                                                                                                  \n",
      " keras_layer_1 (KerasLayer)     {'encoder_outputs':  109482241   ['keras_layer[0][0]',            \n",
      "                                 [(None, 128, 768),               'keras_layer[0][1]',            \n",
      "                                 (None, 128, 768),                'keras_layer[0][2]']            \n",
      "                                 (None, 128, 768),                                                \n",
      "                                 (None, 128, 768),                                                \n",
      "                                 (None, 128, 768),                                                \n",
      "                                 (None, 128, 768),                                                \n",
      "                                 (None, 128, 768),                                                \n",
      "                                 (None, 128, 768),                                                \n",
      "                                 (None, 128, 768),                                                \n",
      "                                 (None, 128, 768),                                                \n",
      "                                 (None, 128, 768),                                                \n",
      "                                 (None, 128, 768)],                                               \n",
      "                                 'sequence_output':                                               \n",
      "                                 (None, 128, 768),                                                \n",
      "                                 'pooled_output': (                                               \n",
      "                                None, 768),                                                       \n",
      "                                 'default': (None,                                                \n",
      "                                768)}                                                             \n",
      "                                                                                                  \n",
      " dropout (Dropout)              (None, 768)          0           ['keras_layer_1[0][13]']         \n",
      "                                                                                                  \n",
      " output (Dense)                 (None, 1)            769         ['dropout[0][0]']                \n",
      "                                                                                                  \n",
      "==================================================================================================\n",
      "Total params: 109,483,010\n",
      "Trainable params: 769\n",
      "Non-trainable params: 109,482,241\n",
      "__________________________________________________________________________________________________\n"
     ]
    }
   ],
   "source": [
    "model.summary()"
   ]
  },
  {
   "cell_type": "code",
   "execution_count": 35,
   "metadata": {},
   "outputs": [
    {
     "data": {
      "text/plain": [
       "589"
      ]
     },
     "execution_count": 35,
     "metadata": {},
     "output_type": "execute_result"
    }
   ],
   "source": [
    "len(X_train)"
   ]
  },
  {
   "cell_type": "code",
   "execution_count": 36,
   "metadata": {},
   "outputs": [],
   "source": [
    "METRICS = [\n",
    "      tf.keras.metrics.BinaryAccuracy(name='accuracy'),\n",
    "      tf.keras.metrics.Precision(name='precision'),\n",
    "      tf.keras.metrics.Recall(name='recall')\n",
    "]\n",
    "\n",
    "model.compile(optimizer='adam',\n",
    "              loss='binary_crossentropy',\n",
    "              metrics=METRICS)"
   ]
  },
  {
   "cell_type": "markdown",
   "metadata": {},
   "source": [
    "Train the model"
   ]
  },
  {
   "cell_type": "code",
   "execution_count": 37,
   "metadata": {},
   "outputs": [
    {
     "name": "stdout",
     "output_type": "stream",
     "text": [
      "Epoch 1/10\n",
      "19/19 [==============================] - 76s 4s/step - loss: 0.6155 - accuracy: 0.6621 - precision: 0.6589 - recall: 0.6746\n",
      "Epoch 2/10\n",
      "19/19 [==============================] - 73s 4s/step - loss: 0.4802 - accuracy: 0.8166 - precision: 0.8026 - recall: 0.8407\n",
      "Epoch 3/10\n",
      "19/19 [==============================] - 70s 4s/step - loss: 0.3926 - accuracy: 0.8676 - precision: 0.8581 - recall: 0.8814\n",
      "Epoch 4/10\n",
      "19/19 [==============================] - 65s 3s/step - loss: 0.3607 - accuracy: 0.8930 - precision: 0.8791 - recall: 0.9119\n",
      "Epoch 5/10\n",
      "19/19 [==============================] - 74s 4s/step - loss: 0.3269 - accuracy: 0.9066 - precision: 0.8922 - recall: 0.9254\n",
      "Epoch 6/10\n",
      "19/19 [==============================] - 73s 4s/step - loss: 0.2965 - accuracy: 0.9134 - precision: 0.9122 - recall: 0.9153\n",
      "Epoch 7/10\n",
      "19/19 [==============================] - 73s 4s/step - loss: 0.2770 - accuracy: 0.9202 - precision: 0.9133 - recall: 0.9288\n",
      "Epoch 8/10\n",
      "19/19 [==============================] - 71s 4s/step - loss: 0.2689 - accuracy: 0.9100 - precision: 0.8980 - recall: 0.9254\n",
      "Epoch 9/10\n",
      "19/19 [==============================] - 70s 4s/step - loss: 0.2649 - accuracy: 0.9219 - precision: 0.9220 - recall: 0.9220\n",
      "Epoch 10/10\n",
      "19/19 [==============================] - 73s 4s/step - loss: 0.2528 - accuracy: 0.9270 - precision: 0.9257 - recall: 0.9288\n"
     ]
    },
    {
     "data": {
      "text/plain": [
       "<keras.callbacks.History at 0x1670955b370>"
      ]
     },
     "execution_count": 37,
     "metadata": {},
     "output_type": "execute_result"
    }
   ],
   "source": [
    "model.fit(X_train, y_train, epochs=10)"
   ]
  },
  {
   "cell_type": "code",
   "execution_count": 38,
   "metadata": {},
   "outputs": [
    {
     "name": "stdout",
     "output_type": "stream",
     "text": [
      "7/7 [==============================] - 23s 3s/step - loss: 0.2612 - accuracy: 0.9492 - precision: 0.9783 - recall: 0.9184\n"
     ]
    },
    {
     "data": {
      "text/plain": [
       "[0.2611946761608124, 0.9492385983467102, 0.97826087474823, 0.918367326259613]"
      ]
     },
     "execution_count": 38,
     "metadata": {},
     "output_type": "execute_result"
    }
   ],
   "source": [
    "model.evaluate(X_test, y_test)"
   ]
  },
  {
   "cell_type": "code",
   "execution_count": 39,
   "metadata": {},
   "outputs": [
    {
     "name": "stdout",
     "output_type": "stream",
     "text": [
      "7/7 [==============================] - 23s 3s/step\n"
     ]
    }
   ],
   "source": [
    "y_predicted = model.predict(X_test)\n",
    "y_predicted = y_predicted.flatten()"
   ]
  },
  {
   "cell_type": "code",
   "execution_count": 40,
   "metadata": {},
   "outputs": [
    {
     "data": {
      "text/plain": [
       "array([1, 1, 0, 1, 0, 0, 1, 1, 1, 0, 1, 1, 1, 0, 0, 0, 0, 0, 0, 1, 1, 1,\n",
       "       1, 0, 0, 0, 0, 0, 0, 1, 1, 1, 1, 1, 0, 0, 1, 0, 0, 1, 1, 1, 0, 1,\n",
       "       1, 1, 0, 1, 0, 1, 0, 0, 1, 1, 0, 0, 1, 1, 1, 0, 1, 1, 0, 0, 0, 0,\n",
       "       1, 0, 0, 1, 0, 1, 0, 1, 1, 1, 1, 0, 0, 1, 0, 1, 0, 0, 0, 1, 0, 1,\n",
       "       1, 0, 0, 0, 1, 1, 0, 1, 1, 0, 0, 0, 0, 0, 0, 1, 1, 1, 1, 1, 0, 1,\n",
       "       0, 1, 0, 0, 1, 1, 1, 0, 0, 1, 0, 1, 0, 0, 0, 0, 0, 0, 0, 0, 0, 1,\n",
       "       0, 0, 1, 0, 0, 1, 0, 1, 0, 1, 1, 0, 0, 0, 1, 0, 0, 0, 0, 0, 0, 0,\n",
       "       0, 0, 1, 1, 1, 0, 1, 1, 1, 0, 0, 1, 1, 0, 0, 0, 1, 0, 0, 1, 0, 0,\n",
       "       0, 1, 1, 1, 1, 1, 1, 1, 0, 1, 1, 0, 0, 0, 0, 0, 1, 0, 1, 1, 1])"
      ]
     },
     "execution_count": 40,
     "metadata": {},
     "output_type": "execute_result"
    }
   ],
   "source": [
    "import numpy as np\n",
    "\n",
    "y_predicted = np.where(y_predicted > 0.5, 1, 0)\n",
    "y_predicted"
   ]
  },
  {
   "cell_type": "code",
   "execution_count": 41,
   "metadata": {},
   "outputs": [
    {
     "data": {
      "text/plain": [
       "array([[97,  2],\n",
       "       [ 8, 90]], dtype=int64)"
      ]
     },
     "execution_count": 41,
     "metadata": {},
     "output_type": "execute_result"
    }
   ],
   "source": [
    "from sklearn.metrics import confusion_matrix, classification_report\n",
    "\n",
    "cm = confusion_matrix(y_test, y_predicted)\n",
    "cm "
   ]
  },
  {
   "cell_type": "code",
   "execution_count": 50,
   "metadata": {},
   "outputs": [
    {
     "data": {
      "image/png": "[encoded data removed]",
      "text/plain": [
       "<Figure size 432x288 with 2 Axes>"
      ]
     },
     "metadata": {
      "needs_background": "light"
     },
     "output_type": "display_data"
    }
   ],
   "source": [
    "from matplotlib import pyplot as plt\n",
    "import seaborn as sn\n",
    "#sn.heatmap(cm, annot=True, fmt='d')\n",
    "#plt.xlabel('Predicted')\n",
    "#plt.ylabel('Truth')\n",
    "\n",
    "ax= plt.subplot()\n",
    "sn.heatmap(cm, annot=True, fmt='g', ax=ax); \n",
    "\n",
    "# labels, title and ticks\n",
    "ax.set_xlabel('Predicted labels');ax.set_ylabel('True labels'); \n",
    "ax.set_title('Confusion Matrix'); \n",
    "ax.xaxis.set_ticklabels(['non-PII', 'PII']); ax.yaxis.set_ticklabels(['non-PII', 'PII']);"
   ]
  },
  {
   "cell_type": "code",
   "execution_count": 51,
   "metadata": {},
   "outputs": [
    {
     "name": "stdout",
     "output_type": "stream",
     "text": [
      "              precision    recall  f1-score   support\n",
      "\n",
      "     non-PII       0.92      0.98      0.95        99\n",
      "         PII       0.98      0.92      0.95        98\n",
      "\n",
      "    accuracy                           0.95       197\n",
      "   macro avg       0.95      0.95      0.95       197\n",
      "weighted avg       0.95      0.95      0.95       197\n",
      "\n"
     ]
    }
   ],
   "source": [
    "print(classification_report(y_test, y_predicted, target_names=['non-PII','PII']))"
   ]
  },
  {
   "cell_type": "code",
   "execution_count": 36,
   "metadata": {},
   "outputs": [
    {
     "name": "stdout",
     "output_type": "stream",
     "text": [
      "Epoch 1/50\n",
      "133/133 [==============================] - 81s 610ms/step - loss: 0.2406 - accuracy: 0.9415 - precision: 0.9470 - recall: 0.9363 - val_loss: 0.1905 - val_accuracy: 0.9492 - val_precision: 0.9630 - val_recall: 0.9286\n",
      "Epoch 2/50\n",
      "133/133 [==============================] - 83s 621ms/step - loss: 0.2211 - accuracy: 0.9509 - precision: 0.9617 - recall: 0.9401 - val_loss: 0.1493 - val_accuracy: 0.9661 - val_precision: 0.9643 - val_recall: 0.9643\n",
      "Epoch 3/50\n",
      "133/133 [==============================] - 79s 598ms/step - loss: 0.2023 - accuracy: 0.9434 - precision: 0.9506 - recall: 0.9363 - val_loss: 0.1366 - val_accuracy: 0.9661 - val_precision: 0.9643 - val_recall: 0.9643\n",
      "Epoch 4/50\n",
      "133/133 [==============================] - 79s 592ms/step - loss: 0.1979 - accuracy: 0.9472 - precision: 0.9614 - recall: 0.9326 - val_loss: 0.1228 - val_accuracy: 0.9661 - val_precision: 0.9643 - val_recall: 0.9643\n",
      "Epoch 5/50\n",
      "133/133 [==============================] - 82s 619ms/step - loss: 0.1839 - accuracy: 0.9528 - precision: 0.9654 - recall: 0.9401 - val_loss: 0.1250 - val_accuracy: 0.9661 - val_precision: 0.9643 - val_recall: 0.9643\n",
      "Epoch 6/50\n",
      "133/133 [==============================] - 85s 639ms/step - loss: 0.1757 - accuracy: 0.9623 - precision: 0.9843 - recall: 0.9401 - val_loss: 0.1758 - val_accuracy: 0.9492 - val_precision: 0.9310 - val_recall: 0.9643\n",
      "Epoch 7/50\n",
      "133/133 [==============================] - 79s 598ms/step - loss: 0.1816 - accuracy: 0.9566 - precision: 0.9766 - recall: 0.9363 - val_loss: 0.1546 - val_accuracy: 0.9661 - val_precision: 0.9643 - val_recall: 0.9643\n",
      "Epoch 8/50\n",
      "133/133 [==============================] - 78s 590ms/step - loss: 0.1758 - accuracy: 0.9528 - precision: 0.9690 - recall: 0.9363 - val_loss: 0.1017 - val_accuracy: 0.9661 - val_precision: 0.9643 - val_recall: 0.9643\n",
      "Epoch 9/50\n",
      "133/133 [==============================] - 79s 592ms/step - loss: 0.1665 - accuracy: 0.9604 - precision: 0.9805 - recall: 0.9401 - val_loss: 0.0939 - val_accuracy: 0.9661 - val_precision: 0.9643 - val_recall: 0.9643\n",
      "Epoch 10/50\n",
      "133/133 [==============================] - 81s 607ms/step - loss: 0.1670 - accuracy: 0.9623 - precision: 0.9843 - recall: 0.9401 - val_loss: 0.0906 - val_accuracy: 0.9831 - val_precision: 1.0000 - val_recall: 0.9643\n",
      "Epoch 11/50\n",
      "133/133 [==============================] - 83s 626ms/step - loss: 0.1663 - accuracy: 0.9585 - precision: 0.9767 - recall: 0.9401 - val_loss: 0.1027 - val_accuracy: 0.9661 - val_precision: 0.9643 - val_recall: 0.9643\n",
      "Epoch 12/50\n",
      "133/133 [==============================] - 84s 634ms/step - loss: 0.1600 - accuracy: 0.9623 - precision: 0.9881 - recall: 0.9363 - val_loss: 0.1238 - val_accuracy: 0.9661 - val_precision: 0.9643 - val_recall: 0.9643\n",
      "Epoch 13/50\n",
      "133/133 [==============================] - 83s 627ms/step - loss: 0.1590 - accuracy: 0.9679 - precision: 0.9883 - recall: 0.9476 - val_loss: 0.0809 - val_accuracy: 0.9661 - val_precision: 0.9643 - val_recall: 0.9643\n",
      "Epoch 14/50\n",
      "133/133 [==============================] - 82s 619ms/step - loss: 0.1577 - accuracy: 0.9623 - precision: 0.9805 - recall: 0.9438 - val_loss: 0.0754 - val_accuracy: 0.9661 - val_precision: 0.9643 - val_recall: 0.9643\n",
      "Epoch 15/50\n",
      "133/133 [==============================] - 82s 616ms/step - loss: 0.1542 - accuracy: 0.9642 - precision: 0.9921 - recall: 0.9363 - val_loss: 0.0755 - val_accuracy: 0.9661 - val_precision: 0.9643 - val_recall: 0.9643\n",
      "Epoch 16/50\n",
      "133/133 [==============================] - 86s 644ms/step - loss: 0.1675 - accuracy: 0.9491 - precision: 0.9724 - recall: 0.9251 - val_loss: 0.0703 - val_accuracy: 0.9661 - val_precision: 0.9643 - val_recall: 0.9643\n",
      "Epoch 17/50\n",
      "133/133 [==============================] - 85s 638ms/step - loss: 0.1562 - accuracy: 0.9528 - precision: 0.9690 - recall: 0.9363 - val_loss: 0.0725 - val_accuracy: 0.9661 - val_precision: 0.9643 - val_recall: 0.9643\n",
      "Epoch 18/50\n",
      "133/133 [==============================] - 85s 637ms/step - loss: 0.1429 - accuracy: 0.9585 - precision: 0.9804 - recall: 0.9363 - val_loss: 0.0675 - val_accuracy: 0.9661 - val_precision: 0.9643 - val_recall: 0.9643\n",
      "Epoch 19/50\n",
      "133/133 [==============================] - 84s 635ms/step - loss: 0.1424 - accuracy: 0.9623 - precision: 0.9920 - recall: 0.9326 - val_loss: 0.0894 - val_accuracy: 0.9661 - val_precision: 0.9643 - val_recall: 0.9643\n",
      "Epoch 20/50\n",
      "133/133 [==============================] - 82s 617ms/step - loss: 0.1497 - accuracy: 0.9679 - precision: 0.9921 - recall: 0.9438 - val_loss: 0.0812 - val_accuracy: 0.9661 - val_precision: 0.9643 - val_recall: 0.9643\n",
      "Epoch 21/50\n",
      "133/133 [==============================] - 86s 645ms/step - loss: 0.1405 - accuracy: 0.9660 - precision: 0.9882 - recall: 0.9438 - val_loss: 0.0636 - val_accuracy: 0.9831 - val_precision: 1.0000 - val_recall: 0.9643\n",
      "Epoch 22/50\n",
      "133/133 [==============================] - 86s 643ms/step - loss: 0.1597 - accuracy: 0.9585 - precision: 0.9804 - recall: 0.9363 - val_loss: 0.0747 - val_accuracy: 0.9661 - val_precision: 0.9643 - val_recall: 0.9643\n",
      "Epoch 23/50\n",
      "133/133 [==============================] - 85s 640ms/step - loss: 0.1427 - accuracy: 0.9642 - precision: 0.9844 - recall: 0.9438 - val_loss: 0.0601 - val_accuracy: 0.9661 - val_precision: 0.9643 - val_recall: 0.9643\n",
      "Epoch 24/50\n",
      "133/133 [==============================] - 88s 659ms/step - loss: 0.1518 - accuracy: 0.9623 - precision: 0.9805 - recall: 0.9438 - val_loss: 0.0636 - val_accuracy: 0.9831 - val_precision: 1.0000 - val_recall: 0.9643\n",
      "Epoch 25/50\n",
      "133/133 [==============================] - 88s 665ms/step - loss: 0.1443 - accuracy: 0.9623 - precision: 0.9843 - recall: 0.9401 - val_loss: 0.0715 - val_accuracy: 0.9661 - val_precision: 0.9643 - val_recall: 0.9643\n",
      "Epoch 26/50\n",
      "133/133 [==============================] - 82s 619ms/step - loss: 0.1405 - accuracy: 0.9623 - precision: 0.9805 - recall: 0.9438 - val_loss: 0.0717 - val_accuracy: 0.9831 - val_precision: 1.0000 - val_recall: 0.9643\n",
      "Epoch 27/50\n",
      "133/133 [==============================] - 84s 634ms/step - loss: 0.1444 - accuracy: 0.9642 - precision: 0.9921 - recall: 0.9363 - val_loss: 0.0759 - val_accuracy: 0.9661 - val_precision: 0.9643 - val_recall: 0.9643\n",
      "Epoch 28/50\n",
      "133/133 [==============================] - 81s 614ms/step - loss: 0.1304 - accuracy: 0.9660 - precision: 0.9844 - recall: 0.9476 - val_loss: 0.0602 - val_accuracy: 0.9831 - val_precision: 1.0000 - val_recall: 0.9643\n",
      "Epoch 29/50\n",
      "133/133 [==============================] - 82s 618ms/step - loss: 0.1460 - accuracy: 0.9623 - precision: 0.9805 - recall: 0.9438 - val_loss: 0.0538 - val_accuracy: 0.9831 - val_precision: 1.0000 - val_recall: 0.9643\n",
      "Epoch 30/50\n",
      "133/133 [==============================] - 83s 624ms/step - loss: 0.1362 - accuracy: 0.9679 - precision: 0.9883 - recall: 0.9476 - val_loss: 0.0531 - val_accuracy: 0.9831 - val_precision: 1.0000 - val_recall: 0.9643\n",
      "Epoch 31/50\n",
      "133/133 [==============================] - 83s 628ms/step - loss: 0.1335 - accuracy: 0.9642 - precision: 0.9844 - recall: 0.9438 - val_loss: 0.0559 - val_accuracy: 0.9661 - val_precision: 0.9643 - val_recall: 0.9643\n",
      "Epoch 32/50\n",
      "133/133 [==============================] - 80s 598ms/step - loss: 0.1349 - accuracy: 0.9642 - precision: 0.9769 - recall: 0.9513 - val_loss: 0.0698 - val_accuracy: 0.9831 - val_precision: 0.9655 - val_recall: 1.0000\n",
      "Epoch 33/50\n",
      "133/133 [==============================] - 79s 592ms/step - loss: 0.1499 - accuracy: 0.9604 - precision: 0.9843 - recall: 0.9363 - val_loss: 0.0541 - val_accuracy: 0.9661 - val_precision: 0.9643 - val_recall: 0.9643\n",
      "Epoch 34/50\n",
      "133/133 [==============================] - 84s 630ms/step - loss: 0.1296 - accuracy: 0.9642 - precision: 0.9806 - recall: 0.9476 - val_loss: 0.0512 - val_accuracy: 0.9831 - val_precision: 1.0000 - val_recall: 0.9643\n",
      "Epoch 35/50\n",
      "133/133 [==============================] - 85s 642ms/step - loss: 0.1314 - accuracy: 0.9623 - precision: 0.9768 - recall: 0.9476 - val_loss: 0.0510 - val_accuracy: 0.9831 - val_precision: 1.0000 - val_recall: 0.9643\n",
      "Epoch 36/50\n",
      "133/133 [==============================] - 84s 634ms/step - loss: 0.1370 - accuracy: 0.9660 - precision: 0.9921 - recall: 0.9401 - val_loss: 0.0644 - val_accuracy: 0.9831 - val_precision: 0.9655 - val_recall: 1.0000\n"
     ]
    },
    {
     "name": "stdout",
     "output_type": "stream",
     "text": [
      "Epoch 37/50\n",
      "133/133 [==============================] - 83s 622ms/step - loss: 0.1327 - accuracy: 0.9717 - precision: 0.9884 - recall: 0.9551 - val_loss: 0.0486 - val_accuracy: 0.9831 - val_precision: 1.0000 - val_recall: 0.9643\n",
      "Epoch 38/50\n",
      "133/133 [==============================] - 86s 645ms/step - loss: 0.1438 - accuracy: 0.9566 - precision: 0.9766 - recall: 0.9363 - val_loss: 0.0545 - val_accuracy: 0.9661 - val_precision: 0.9643 - val_recall: 0.9643\n",
      "Epoch 39/50\n",
      "133/133 [==============================] - 85s 637ms/step - loss: 0.1356 - accuracy: 0.9698 - precision: 0.9922 - recall: 0.9476 - val_loss: 0.0666 - val_accuracy: 0.9831 - val_precision: 0.9655 - val_recall: 1.0000\n",
      "Epoch 40/50\n",
      "133/133 [==============================] - 83s 621ms/step - loss: 0.1370 - accuracy: 0.9604 - precision: 0.9767 - recall: 0.9438 - val_loss: 0.0463 - val_accuracy: 0.9831 - val_precision: 1.0000 - val_recall: 0.9643\n",
      "Epoch 41/50\n",
      "133/133 [==============================] - 81s 607ms/step - loss: 0.1412 - accuracy: 0.9660 - precision: 0.9844 - recall: 0.9476 - val_loss: 0.0457 - val_accuracy: 0.9831 - val_precision: 1.0000 - val_recall: 0.9643\n",
      "Epoch 42/50\n",
      "133/133 [==============================] - 76s 574ms/step - loss: 0.1363 - accuracy: 0.9698 - precision: 0.9883 - recall: 0.9513 - val_loss: 0.0451 - val_accuracy: 0.9831 - val_precision: 1.0000 - val_recall: 0.9643\n",
      "Epoch 43/50\n",
      "133/133 [==============================] - 79s 598ms/step - loss: 0.1380 - accuracy: 0.9679 - precision: 0.9883 - recall: 0.9476 - val_loss: 0.0486 - val_accuracy: 0.9831 - val_precision: 1.0000 - val_recall: 0.9643\n",
      "Epoch 44/50\n",
      "133/133 [==============================] - 84s 633ms/step - loss: 0.1299 - accuracy: 0.9623 - precision: 0.9843 - recall: 0.9401 - val_loss: 0.0438 - val_accuracy: 0.9831 - val_precision: 1.0000 - val_recall: 0.9643\n",
      "Epoch 45/50\n",
      "133/133 [==============================] - 82s 620ms/step - loss: 0.1316 - accuracy: 0.9679 - precision: 0.9921 - recall: 0.9438 - val_loss: 0.0556 - val_accuracy: 0.9661 - val_precision: 0.9643 - val_recall: 0.9643\n",
      "Epoch 46/50\n",
      "133/133 [==============================] - 83s 621ms/step - loss: 0.1263 - accuracy: 0.9623 - precision: 0.9805 - recall: 0.9438 - val_loss: 0.0425 - val_accuracy: 0.9831 - val_precision: 1.0000 - val_recall: 0.9643\n",
      "Epoch 47/50\n",
      "133/133 [==============================] - 84s 634ms/step - loss: 0.1263 - accuracy: 0.9679 - precision: 0.9921 - recall: 0.9438 - val_loss: 0.2299 - val_accuracy: 0.8814 - val_precision: 0.8000 - val_recall: 1.0000\n",
      "Epoch 48/50\n",
      "133/133 [==============================] - 82s 619ms/step - loss: 0.1361 - accuracy: 0.9623 - precision: 0.9768 - recall: 0.9476 - val_loss: 0.0419 - val_accuracy: 0.9831 - val_precision: 1.0000 - val_recall: 0.9643\n",
      "Epoch 49/50\n",
      "133/133 [==============================] - 81s 612ms/step - loss: 0.1281 - accuracy: 0.9642 - precision: 0.9844 - recall: 0.9438 - val_loss: 0.0452 - val_accuracy: 1.0000 - val_precision: 1.0000 - val_recall: 1.0000\n",
      "Epoch 50/50\n",
      "133/133 [==============================] - 81s 611ms/step - loss: 0.1225 - accuracy: 0.9679 - precision: 0.9921 - recall: 0.9438 - val_loss: 0.0580 - val_accuracy: 0.9831 - val_precision: 0.9655 - val_recall: 1.0000\n"
     ]
    },
    {
     "ename": "KeyError",
     "evalue": "'acc'",
     "output_type": "error",
     "traceback": [
      "\u001b[1;31m---------------------------------------------------------------------------\u001b[0m",
      "\u001b[1;31mKeyError\u001b[0m                                  Traceback (most recent call last)",
      "\u001b[1;32m<ipython-input-36-865373c53f99>\u001b[0m in \u001b[0;36m<module>\u001b[1;34m\u001b[0m\n\u001b[0;32m      2\u001b[0m \u001b[1;32mfrom\u001b[0m \u001b[0mmatplotlib\u001b[0m \u001b[1;32mimport\u001b[0m \u001b[0mpyplot\u001b[0m \u001b[1;32mas\u001b[0m \u001b[0mplt\u001b[0m\u001b[1;33m\u001b[0m\u001b[1;33m\u001b[0m\u001b[0m\n\u001b[0;32m      3\u001b[0m \u001b[0mhistory\u001b[0m \u001b[1;33m=\u001b[0m \u001b[0mmodel\u001b[0m\u001b[1;33m.\u001b[0m\u001b[0mfit\u001b[0m\u001b[1;33m(\u001b[0m\u001b[0mX_train\u001b[0m\u001b[1;33m,\u001b[0m \u001b[0my_train\u001b[0m \u001b[1;33m,\u001b[0m\u001b[0mvalidation_split\u001b[0m \u001b[1;33m=\u001b[0m \u001b[1;36m0.1\u001b[0m\u001b[1;33m,\u001b[0m \u001b[0mepochs\u001b[0m\u001b[1;33m=\u001b[0m\u001b[1;36m50\u001b[0m\u001b[1;33m,\u001b[0m \u001b[0mbatch_size\u001b[0m\u001b[1;33m=\u001b[0m\u001b[1;36m4\u001b[0m\u001b[1;33m)\u001b[0m\u001b[1;33m\u001b[0m\u001b[1;33m\u001b[0m\u001b[0m\n\u001b[1;32m----> 4\u001b[1;33m \u001b[0mplt\u001b[0m\u001b[1;33m.\u001b[0m\u001b[0mplot\u001b[0m\u001b[1;33m(\u001b[0m\u001b[0mhistory\u001b[0m\u001b[1;33m.\u001b[0m\u001b[0mhistory\u001b[0m\u001b[1;33m[\u001b[0m\u001b[1;34m'acc'\u001b[0m\u001b[1;33m]\u001b[0m\u001b[1;33m)\u001b[0m\u001b[1;33m\u001b[0m\u001b[1;33m\u001b[0m\u001b[0m\n\u001b[0m\u001b[0;32m      5\u001b[0m \u001b[0mplt\u001b[0m\u001b[1;33m.\u001b[0m\u001b[0mplot\u001b[0m\u001b[1;33m(\u001b[0m\u001b[0mhistory\u001b[0m\u001b[1;33m.\u001b[0m\u001b[0mhistory\u001b[0m\u001b[1;33m[\u001b[0m\u001b[1;34m'val_acc'\u001b[0m\u001b[1;33m]\u001b[0m\u001b[1;33m)\u001b[0m\u001b[1;33m\u001b[0m\u001b[1;33m\u001b[0m\u001b[0m\n\u001b[0;32m      6\u001b[0m \u001b[0mplt\u001b[0m\u001b[1;33m.\u001b[0m\u001b[0mtitle\u001b[0m\u001b[1;33m(\u001b[0m\u001b[1;34m'model accuracy'\u001b[0m\u001b[1;33m)\u001b[0m\u001b[1;33m\u001b[0m\u001b[1;33m\u001b[0m\u001b[0m\n",
      "\u001b[1;31mKeyError\u001b[0m: 'acc'"
     ]
    }
   ],
   "source": [
    "import keras\n",
    "from matplotlib import pyplot as plt\n",
    "history = model.fit(X_train, y_train ,validation_split = 0.1, epochs=50, batch_size=4)\n",
    "plt.plot(history.history['accuracy'])\n",
    "plt.plot(history.history['val_accuracy'])\n",
    "plt.title('model accuracy')\n",
    "plt.ylabel('accuracy')\n",
    "plt.xlabel('epoch')\n",
    "plt.legend(['train', 'val'], loc='upper left')\n",
    "plt.show()\n"
   ]
  },
  {
   "cell_type": "code",
   "execution_count": 44,
   "metadata": {},
   "outputs": [
    {
     "data": {
      "image/png": "[encoded data removed]",
      "text/plain": [
       "<Figure size 432x288 with 1 Axes>"
      ]
     },
     "metadata": {
      "needs_background": "light"
     },
     "output_type": "display_data"
    }
   ],
   "source": [
    "plt.plot(history.history['accuracy'])\n",
    "plt.plot(history.history['val_accuracy'])\n",
    "plt.title('Model Accuracy')\n",
    "plt.ylabel('Accuracy')\n",
    "plt.xlabel('Epoch')\n",
    "plt.legend(['Train', 'Val'], loc='upper left')\n",
    "plt.show()"
   ]
  },
  {
   "cell_type": "code",
   "execution_count": 38,
   "metadata": {},
   "outputs": [
    {
     "data": {
      "text/plain": [
       "<keras.callbacks.History at 0x1495122c700>"
      ]
     },
     "execution_count": 38,
     "metadata": {},
     "output_type": "execute_result"
    }
   ],
   "source": [
    "history"
   ]
  },
  {
   "cell_type": "code",
   "execution_count": 42,
   "metadata": {},
   "outputs": [
    {
     "data": {
      "image/png": "[encoded data removed]",
      "text/plain": [
       "<Figure size 432x288 with 1 Axes>"
      ]
     },
     "metadata": {
      "needs_background": "light"
     },
     "output_type": "display_data"
    }
   ],
   "source": [
    "plt.plot(history.history['loss'])\n",
    "plt.plot(history.history['val_loss'])\n",
    "plt.title('model loss')\n",
    "plt.ylabel('loss')\n",
    "plt.xlabel('epoch')\n",
    "plt.legend(['train', 'val'], loc='upper left')\n",
    "plt.show()"
   ]
  },
  {
   "cell_type": "code",
   "execution_count": null,
   "metadata": {},
   "outputs": [],
   "source": []
  }
 ],
 "metadata": {
  "kernelspec": {
   "display_name": "Python 3",
   "language": "python",
   "name": "python3"
  },
  "language_info": {
   "codemirror_mode": {
    "name": "ipython",
    "version": 3
   },
   "file_extension": ".py",
   "mimetype": "text/x-python",
   "name": "python",
   "nbconvert_exporter": "python",
   "pygments_lexer": "ipython3",
   "version": "3.8.5"
  }
 },
 "nbformat": 4,
 "nbformat_minor": 4
}
